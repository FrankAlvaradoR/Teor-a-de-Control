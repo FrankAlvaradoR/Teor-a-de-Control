{
  "nbformat": 4,
  "nbformat_minor": 0,
  "metadata": {
    "colab": {
      "provenance": [],
      "authorship_tag": "ABX9TyMn9PkNH4O8ude6PJ7zRAf6",
      "include_colab_link": true
    },
    "kernelspec": {
      "name": "python3",
      "display_name": "Python 3"
    },
    "language_info": {
      "name": "python"
    }
  },
  "cells": [
    {
      "cell_type": "markdown",
      "metadata": {
        "id": "view-in-github",
        "colab_type": "text"
      },
      "source": [
        "<a href=\"https://colab.research.google.com/github/FrankAlvaradoR/Teor-a-de-Control/blob/main/Graficas2.ipynb\" target=\"_parent\"><img src=\"https://colab.research.google.com/assets/colab-badge.svg\" alt=\"Open In Colab\"/></a>"
      ]
    },
    {
      "cell_type": "markdown",
      "source": [
        "# La librería Matplotlib\n",
        "Matplotlib es una librería de Python especializada en la creación de gráficos en dos dimensiones.\n",
        "\n",
        "https://aprendeconalf.es/docencia/python/manual/matplotlib/\n"
      ],
      "metadata": {
        "id": "wq9Scj5GW5p0"
      }
    },
    {
      "cell_type": "code",
      "execution_count": null,
      "metadata": {
        "id": "al4DxgdMWq5X"
      },
      "outputs": [],
      "source": [
        "# Importar el módulo pyplot con el alias plt\n",
        "import matplotlib.pyplot as plt\n",
        "# Crear la figura y los ejes\n",
        "fig, ax = plt.subplots()\n",
        "# Dibujar puntos\n",
        "ax.scatter(x = [1, 2, 3], y = [3, 2, 1])\n",
        "# Guardar el gráfico en formato png\n",
        "plt.savefig('diagrama-dispersion.png')\n",
        "# Mostrar el gráfico\n",
        "plt.show()"
      ]
    },
    {
      "cell_type": "code",
      "source": [
        "import matplotlib.pyplot as plt\n",
        "fig, ax = plt.subplots()\n",
        "ax.scatter([1, 2, 3, 4], [1, 2, 0, 0.5])\n",
        "plt.show()"
      ],
      "metadata": {
        "id": "tzPU2-3SW2ur"
      },
      "execution_count": null,
      "outputs": []
    },
    {
      "cell_type": "code",
      "source": [
        "import matplotlib.pyplot as plt\n",
        "fig, ax = plt.subplots()\n",
        "ax.plot([1, 2, 3, 4], [1, 2, 0, 0.5])\n",
        "plt.show()"
      ],
      "metadata": {
        "id": "mr52B0MYlic5"
      },
      "execution_count": null,
      "outputs": []
    },
    {
      "cell_type": "code",
      "source": [
        "import matplotlib.pyplot as plt\n",
        "fig, ax = plt.subplots()\n",
        "ax.fill_between([1, 2, 3, 4], [1, 2, 2, 0.5])\n",
        "plt.show()"
      ],
      "metadata": {
        "id": "v7k5pe8jlw5w"
      },
      "execution_count": null,
      "outputs": []
    },
    {
      "cell_type": "code",
      "source": [
        "import matplotlib.pyplot as plt\n",
        "fig, ax = plt.subplots()\n",
        "dias = ['L', 'M', 'X', 'J', 'V', 'S', 'D']\n",
        "temperaturas = {'Madrid':[28.5, 30.5, 31, 30, 28, 27.5, 30.5], \n",
        "                'Barcelona':[24.5, 25.5, 26.5, 25, 26.5, 24.5, 25]}\n",
        "ax.plot(dias, temperaturas['Madrid'], color = 'tab:purple')\n",
        "ax.plot(dias, temperaturas['Barcelona'], color = 'tab:green')\n",
        "plt.show()"
      ],
      "metadata": {
        "id": "bTI2U41Sl9C4"
      },
      "execution_count": null,
      "outputs": []
    },
    {
      "cell_type": "code",
      "source": [
        "import matplotlib.pyplot as plt\n",
        "fig, ax = plt.subplots()\n",
        "dias = ['L', 'M', 'X', 'J', 'V', 'S', 'D']\n",
        "temperaturas = {'Madrid':[28.5, 30.5, 31, 30, 28, 27.5, 30.5], \n",
        "                'Barcelona':[24.5, 25.5, 26.5, 25, 26.5, 24.5, 25]}\n",
        "ax.plot(dias, temperaturas['Madrid'],color = [1, 1, 0], marker = '^')\n",
        "ax.plot(dias, temperaturas['Barcelona'], color = 'tab:green', marker = 'o')\n",
        "plt.show()"
      ],
      "metadata": {
        "id": "8CsQfyzSmUF_"
      },
      "execution_count": null,
      "outputs": []
    },
    {
      "cell_type": "code",
      "source": [
        "import matplotlib.pyplot as plt\n",
        "fig, ax = plt.subplots()\n",
        "dias = ['L', 'M', 'X', 'J', 'V', 'S', 'D']\n",
        "temperaturas = {'Madrid':[28.5, 30.5, 31, 30, 28, 27.5, 30.5], 'Barcelona':[24.5, 25.5, 26.5, 25, 26.5, 24.5, 25]}\n",
        "ax.plot(dias, temperaturas['Madrid'], linestyle = 'dashed')\n",
        "ax.plot(dias, temperaturas['Barcelona'], linestyle = 'dotted')\n",
        "plt.show()"
      ],
      "metadata": {
        "id": "Iwy6hDjKmx__"
      },
      "execution_count": null,
      "outputs": []
    },
    {
      "cell_type": "code",
      "source": [
        "fig, ax = plt.subplots()\n",
        "dias = ['L', 'M', 'X', 'J', 'V', 'S', 'D']\n",
        "temperaturas = {'Madrid':[28.5, 30.5, 31, 30, 28, 27.5, 30.5],\n",
        "                'Barcelona':[24.5, 25.5, 26.5, 25, 26.5, 24.5, 25]}\n",
        "ax.plot(dias, temperaturas['Madrid'])\n",
        "ax.plot(dias, temperaturas['Barcelona'])\n",
        "ax.set_title('Evolución de la temperatura diaria', loc = \"center\", \n",
        "             fontdict = {'fontsize':16, 'fontweight':'bold', 'color':'tab:blue'})\n",
        "plt.show()"
      ],
      "metadata": {
        "id": "teK-V56sm3Yn"
      },
      "execution_count": null,
      "outputs": []
    },
    {
      "cell_type": "code",
      "source": [
        "import matplotlib.pyplot as plt\n",
        "fig, ax = plt.subplots()\n",
        "dias = ['L', 'M', 'X', 'J', 'V', 'S', 'D']\n",
        "temperaturas = {'Madrid':[28.5, 30.5, 31, 30, 28, 27.5, 30.5], \n",
        "                'Barcelona':[24.5, 25.5, 26.5, 25, 26.5, 24.5, 25]}\n",
        "ax.plot(dias, temperaturas['Madrid'])\n",
        "ax.plot(dias, temperaturas['Barcelona'])\n",
        "ax.set_xlabel(\"Días\", fontdict = {'fontsize':14, 'fontweight':'bold',\n",
        "                                  'color':[ 1, 0, 1]})\n",
        "ax.set_ylabel(\"Temperatura ºC\")\n",
        "ax.set_ylim([20,25])\n",
        "ax.set_yticks(range(20, 35))\n",
        "plt.show()"
      ],
      "metadata": {
        "id": "rrdewgAjnQDP"
      },
      "execution_count": null,
      "outputs": []
    },
    {
      "cell_type": "code",
      "source": [
        "import matplotlib.pyplot as plt\n",
        "fig, ax = plt.subplots()\n",
        "dias = ['L', 'M', 'X', 'J', 'V', 'S', 'D']\n",
        "temperaturas = {'Madrid':[28.5, 30.5, 31, 30, 28, 27.5, 30.5], \n",
        "                'Barcelona':[24.5, 25.5, 26.5, 25, 26.5, 24.5, 25]}\n",
        "ax.plot(dias, temperaturas['Madrid'], label = 'Madrid')\n",
        "ax.plot(dias, temperaturas['Barcelona'], label = 'Barcelona')\n",
        "ax.legend(loc = 'upper right')\n",
        "plt.show()"
      ],
      "metadata": {
        "id": "e_nunptFoCSe"
      },
      "execution_count": null,
      "outputs": []
    },
    {
      "cell_type": "code",
      "source": [
        "import matplotlib.pyplot as plt\n",
        "fig, ax = plt.subplots()\n",
        "dias = ['L', 'M', 'X', 'J', 'V', 'S', 'D']\n",
        "temperaturas = {'Madrid':[28.5, 30.5, 31, 30, 28, 27.5, 30.5], 'Barcelona':[24.5, 25.5, 26.5, 25, 26.5, 24.5, 25]}\n",
        "ax.plot(dias, temperaturas['Madrid'])\n",
        "ax.plot(dias, temperaturas['Barcelona'])\n",
        "ax.grid(axis = 'both', color = 'gray', linestyle = 'dashed')\n",
        "plt.show()"
      ],
      "metadata": {
        "id": "A0CcYeUHoKn2"
      },
      "execution_count": null,
      "outputs": []
    },
    {
      "cell_type": "code",
      "source": [
        "import matplotlib.pyplot as plt\n",
        "fig, ax = plt.subplots(2, 2, sharey = True)\n",
        "dias = ['L', 'M', 'X', 'J', 'V', 'S', 'D']\n",
        "temperaturas = {'Madrid':[28.5, 30.5, 31, 30, 28, 27.5, 30.5],\n",
        "                'Barcelona':[24.5, 25.5, 26.5, 25, 26.5, 24.5, 25]}\n",
        "ax[0, 0].plot(dias, temperaturas['Madrid'])\n",
        "ax[0, 1].plot(dias, temperaturas['Barcelona'], color = 'tab:green')\n",
        "ax[1, 0].bar(dias, temperaturas['Madrid'])\n",
        "ax[1, 1].bar(dias, temperaturas['Barcelona'], color = 'tab:orange')\n",
        "plt.show()"
      ],
      "metadata": {
        "colab": {
          "base_uri": "https://localhost:8080/",
          "height": 265
        },
        "id": "d8gaXzYRocwG",
        "outputId": "70618f68-a37e-4235-aa6c-ac6557190402"
      },
      "execution_count": 49,
      "outputs": [
        {
          "output_type": "display_data",
          "data": {
            "text/plain": [
              "<Figure size 432x288 with 4 Axes>"
            ],
            "image/png": "[encoded data removed]"
          },
          "metadata": {
            "needs_background": "light"
          }
        }
      ]
    },
    {
      "cell_type": "code",
      "source": [
        "import matplotlib.pyplot as plt\n",
        "# Función cuadrática.\n",
        "def f1(x):\n",
        "    return 2*(x**2) + 5*x - 2\n",
        "# Función lineal.\n",
        "def f2(x):\n",
        "    return 4*x + 1\n",
        "# Valores del eje X que toma el gráfico.\n",
        "x = range(-10, 15)\n",
        "# Graficar ambas funciones.\n",
        "plt.plot(x, [f1(i) for i in x])\n",
        "plt.plot(x, [f2(i) for i in x])\n",
        "# Establecer el color de los ejes.\n",
        "plt.axhline(0, color=\"black\")\n",
        "plt.axvline(0, color=\"black\")\n",
        "# Limitar los valores de los ejes.\n",
        "plt.xlim(-10, 10)\n",
        "plt.ylim(-10, 10)\n",
        "# Guardar gráfico como imágen PNG.\n",
        "plt.savefig(\"output.png\")\n",
        "# Mostrarlo.\n",
        "plt.show()"
      ],
      "metadata": {
        "colab": {
          "base_uri": "https://localhost:8080/",
          "height": 269
        },
        "id": "o_2eQ49Goz9u",
        "outputId": "8daa6849-3b17-4f26-fabe-2e5e5cb79eb2"
      },
      "execution_count": 53,
      "outputs": [
        {
          "output_type": "display_data",
          "data": {
            "text/plain": [
              "<Figure size 432x288 with 1 Axes>"
            ],
            "image/png": "[encoded data removed]"
          },
          "metadata": {
            "needs_background": "light"
          }
        }
      ]
    },
    {
      "cell_type": "code",
      "source": [
        "# Señales modelo varias\n",
        "import numpy as np\n",
        "import matplotlib.pyplot as plt\n",
        "fig, ax = plt.subplots()\n",
        "ax.set_title('Exponencial')\n",
        "ax.set_ylabel(\"Amplitud\")\n",
        "ax.set_xlabel(\"Tiempo en seg\")\n",
        "t = np.arange(-10, 10, .01)\n",
        "y = np.exp(.4*t)\n",
        "plt.plot(t, y)\n",
        "\n",
        "plt.axhline(0, color=\"black\")\n",
        "plt.axvline(0, color=\"black\")\n",
        "\n",
        "plt.xlim(-10, 10)\n",
        "plt.ylim(0, 50)\n",
        "# Guardar gráfico como imágen PNG.\n",
        "#plt.savefig(\"output.png\")\n",
        "# Mostrarlo.\n",
        "plt.show()\n"
      ],
      "metadata": {
        "colab": {
          "base_uri": "https://localhost:8080/",
          "height": 295
        },
        "id": "k0ixwqWapEX2",
        "outputId": "9aec18af-bbd9-492f-e370-aa12027b3e36"
      },
      "execution_count": 72,
      "outputs": [
        {
          "output_type": "display_data",
          "data": {
            "text/plain": [
              "<Figure size 432x288 with 1 Axes>"
            ],
            "image/png": "[encoded data removed]"
          },
          "metadata": {
            "needs_background": "light"
          }
        }
      ]
    },
    {
      "cell_type": "code",
      "source": [
        "# Señales modelo varias\n",
        "import numpy as np\n",
        "import matplotlib.pyplot as plt\n",
        "fig, ax = plt.subplots()\n",
        "ax.set_title('Exponencial')\n",
        "ax.set_ylabel(\"Amplitud\")\n",
        "ax.set_xlabel(\"Tiempo en seg\")\n",
        "t = np.arange(0, 10, .01)\n",
        "F=1;\n",
        "pi = np.pi;\n",
        "y = np.sin(2*pi*F*t)\n",
        "plt.plot(t, y)\n",
        "\n",
        "plt.axhline(0, color=\"black\")\n",
        "plt.axvline(0, color=\"black\")\n",
        "\n",
        "plt.xlim(0, 10)\n",
        "plt.ylim(-2, 2)\n",
        "# Guardar gráfico como imágen PNG.\n",
        "#plt.savefig(\"output.png\")\n",
        "# Mostrarlo.\n",
        "plt.show()\n"
      ],
      "metadata": {
        "colab": {
          "base_uri": "https://localhost:8080/",
          "height": 295
        },
        "id": "ATdeTgIerHnF",
        "outputId": "475290d6-4828-4dec-f91a-ea7b18c70d53"
      },
      "execution_count": 75,
      "outputs": [
        {
          "output_type": "display_data",
          "data": {
            "text/plain": [
              "<Figure size 432x288 with 1 Axes>"
            ],
            "image/png": "[encoded data removed]"
          },
          "metadata": {
            "needs_background": "light"
          }
        }
      ]
    }
  ]
}