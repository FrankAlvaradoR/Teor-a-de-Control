{
  "nbformat": 4,
  "nbformat_minor": 0,
  "metadata": {
    "colab": {
      "provenance": [],
      "authorship_tag": "ABX9TyPB6oNRENWUaxbazjImlBF4",
      "include_colab_link": true
    },
    "kernelspec": {
      "name": "python3",
      "display_name": "Python 3"
    },
    "language_info": {
      "name": "python"
    }
  },
  "cells": [
    {
      "cell_type": "markdown",
      "metadata": {
        "id": "view-in-github",
        "colab_type": "text"
      },
      "source": [
        "<a href=\"https://colab.research.google.com/github/FrankAlvaradoR/Teor-a-de-Control/blob/main/Transitory_Response_tiempos.ipynb\" target=\"_parent\"><img src=\"https://colab.research.google.com/assets/colab-badge.svg\" alt=\"Open In Colab\"/></a>"
      ]
    },
    {
      "cell_type": "code",
      "source": [
        "!pip install control"
      ],
      "metadata": {
        "id": "G7KSQzypQjwQ"
      },
      "execution_count": null,
      "outputs": []
    },
    {
      "cell_type": "code",
      "source": [
        "import control as co\n",
        "import numpy as np\n",
        "import matplotlib.pyplot as plt\n",
        "import time"
      ],
      "metadata": {
        "id": "0HGEuuDDRg8S"
      },
      "execution_count": 33,
      "outputs": []
    },
    {
      "cell_type": "markdown",
      "source": [
        "#Obtención de parámetros de respuesta transitoria\n",
        "Cálculo del tiempo de subida, tiempo pico, máxima sobreelongación y tiempo de asentamiento. Considere el siguiente sistema: \n",
        "\n",
        "\\begin{align}\n",
        "  \\frac{C(s)}{R(s)}=\\frac{25}{s^2 + 6s + 25}\n",
        "\\end{align}\n",
        "\n",
        "Considere un $𝜻=0.6$ y un $𝝎_{n} = 5$ "
      ],
      "metadata": {
        "id": "5BKa7t4RQkDJ"
      }
    },
    {
      "cell_type": "code",
      "execution_count": 60,
      "metadata": {
        "colab": {
          "base_uri": "https://localhost:8080/",
          "height": 437
        },
        "id": "NdUf7bXbQh9j",
        "outputId": "f20b258d-f149-4c84-ca9d-755a72fcfaf2"
      },
      "outputs": [
        {
          "output_type": "stream",
          "name": "stdout",
          "text": [
            "\n",
            "      25\n",
            "--------------\n",
            "s^2 + 6 s + 25\n",
            "\n"
          ]
        },
        {
          "output_type": "display_data",
          "data": {
            "text/plain": [
              "<Figure size 576x360 with 1 Axes>"
            ],
            "image/png": "[encoded data removed]"
          },
          "metadata": {
            "needs_background": "light"
          }
        }
      ],
      "source": [
        "s=co.tf('s') # La variable de la función de transferencia\n",
        "H = (25)/(s**2+6*s+25)\n",
        "print(H)\n",
        "\n",
        "t = np.arange(0,5,0.005)      #vector de tiempo\n",
        "plt.figure(figsize=(8,5))      #tamaño de la figura\n",
        "\n",
        "_, y = co.step_response(H,t)\n",
        "\n",
        "plt.plot(t,y, label='Y')\n",
        "plt.xlabel('tiempo en seg')\n",
        "plt.ylabel('amplitud')\n",
        "plt.title('Respuesta al escalon')\n",
        "plt.legend()\n",
        "plt.grid()"
      ]
    },
    {
      "cell_type": "code",
      "source": [
        "#Tiempo de subida\n",
        "r=1\n",
        "while y[r]<1.0001:\n",
        "  r=r+1\n",
        "tiempo_subida = r*0.005\n",
        "print(\"El tiempo de subida es: {}\".format(tiempo_subida))\n",
        "\n",
        "#Tiempo pico\n",
        "tiempo_pico=np.argmax(y)\n",
        "tiempo_pico*=0.005\n",
        "print(\"El tiempo pico es: {}\".format(tiempo_pico))\n",
        "\n",
        "#sobreelongación_maxima\n",
        "sobreelongación_maxima =np.max(y)-1\n",
        "print(\"La sobreelongación máxima es: {:0.4f}\".format(sobreelongación_maxima))\n",
        "\n",
        "#Tiempo de asentamiento\n",
        "r=999\n",
        "while (y[r]<1.051) & (y[r]>.949):\n",
        "  r-=1\n",
        "tiempo_asentamiento = (r)*0.005\n",
        "print(\"El tiempo de asentamiento es: {}\".format(tiempo_asentamiento))"
      ],
      "metadata": {
        "colab": {
          "base_uri": "https://localhost:8080/"
        },
        "id": "K1BKHK0vSXKh",
        "outputId": "633d9098-a1b8-4267-debd-f5d83b2bf3e2"
      },
      "execution_count": 58,
      "outputs": [
        {
          "output_type": "stream",
          "name": "stdout",
          "text": [
            "El tiempo de subida es: 0.555\n",
            "El tiempo pico es: 0.785\n",
            "La sobreelongación máxima es: 0.0948\n",
            "El tiempo de asentamiento es: 1.04\n"
          ]
        }
      ]
    },
    {
      "cell_type": "code",
      "source": [
        "#Respuesta al escalon \n",
        "s=co.tf('s') # La variable de la función de transferencia\n",
        "H = (1)/(s+1)\n",
        "I\n",
        "print(H)\n",
        "\n",
        "t = np.arange(0,5,0.005)      #vector de tiempo\n",
        "plt.figure(figsize=(8,5))      #tamaño de la figura\n",
        "\n",
        "_, y = co.step_response(H,t)\n",
        "\n",
        "plt.plot(t,y, label='Y')\n",
        "plt.xlabel('tiempo en seg')\n",
        "plt.ylabel('amplitud')\n",
        "plt.title('Respuesta al escalon')\n",
        "plt.legend()\n",
        "plt.grid()"
      ],
      "metadata": {
        "colab": {
          "base_uri": "https://localhost:8080/",
          "height": 437
        },
        "id": "qbK_Oj5TY__o",
        "outputId": "164b233b-14f1-488b-8232-b72601691eda"
      },
      "execution_count": 63,
      "outputs": [
        {
          "output_type": "stream",
          "name": "stdout",
          "text": [
            "\n",
            "  1\n",
            "-----\n",
            "s + 1\n",
            "\n"
          ]
        },
        {
          "output_type": "display_data",
          "data": {
            "text/plain": [
              "<Figure size 576x360 with 1 Axes>"
            ],
            "image/png": "[encoded data removed]"
          },
          "metadata": {
            "needs_background": "light"
          }
        }
      ]
    },
    {
      "cell_type": "code",
      "source": [
        "#Respuesta al escalon \n",
        "s=co.tf('s') # La variable de la función de transferencia\n",
        "H = (1)/(s+1)\n",
        "print(H)\n",
        "\n",
        "t = np.arange(0,5,0.005)      #vector de tiempo\n",
        "plt.figure(figsize=(8,5))      #tamaño de la figura\n",
        "\n",
        "_, y = co.step_response(H,t)\n",
        "\n",
        "plt.plot(t,y, label='Y')\n",
        "plt.xlabel('tiempo en seg')\n",
        "plt.ylabel('amplitud')\n",
        "plt.title('Respuesta al escalon')\n",
        "plt.legend()\n",
        "plt.grid()"
      ],
      "metadata": {
        "id": "3Xilv9e_ZMnF"
      },
      "execution_count": null,
      "outputs": []
    }
  ]
}