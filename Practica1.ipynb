{
  "nbformat": 4,
  "nbformat_minor": 0,
  "metadata": {
    "colab": {
      "provenance": [],
      "authorship_tag": "ABX9TyM9Ed21L7a39bYUI0u3liKM",
      "include_colab_link": true
    },
    "kernelspec": {
      "name": "python3",
      "display_name": "Python 3"
    },
    "language_info": {
      "name": "python"
    }
  },
  "cells": [
    {
      "cell_type": "markdown",
      "metadata": {
        "id": "view-in-github",
        "colab_type": "text"
      },
      "source": [
        "<a href=\"https://colab.research.google.com/github/FrankAlvaradoR/Teor-a-de-Control/blob/main/Practica1.ipynb\" target=\"_parent\"><img src=\"https://colab.research.google.com/assets/colab-badge.svg\" alt=\"Open In Colab\"/></a>"
      ]
    },
    {
      "cell_type": "markdown",
      "source": [
        "Ejemplo 1.1 Transformada de Laplace de la Exponencial decreciente\n",
        "Referencia: Lathi 4.1 p331, Oppenheim 9.1 p656\n",
        "\n",
        "$\n",
        "f(t) = e^{-at} \\mu (t)$\n",
        "\n",
        "$\n",
        "F(s) = \\frac{1}{s+a}\n",
        "​$"
      ],
      "metadata": {
        "id": "evoKwi2a0uUI"
      }
    },
    {
      "cell_type": "code",
      "execution_count": null,
      "metadata": {
        "id": "LUunwDdI0K2X"
      },
      "outputs": [],
      "source": [
        "# Transformadas de Laplace con Sympy\n",
        "# asume que f(t) se multiplica por u(t)\n",
        "import sympy as sym\n",
        "\n",
        "# INGRESO\n",
        "t = sym.Symbol('t')\n",
        "s = sym.Symbol('s')\n",
        "a = sym.Symbol('a')\n",
        "\n",
        "ft = sym.exp(-a*t)\n",
        "\n",
        "# PROCEDIMIENTO\n",
        "Fs_L = sym.laplace_transform(ft,t,s)\n",
        "Fs = Fs_L[0] # expresion\n",
        "\n",
        "# polos como raices del denominador\n",
        "esracional = Fs.is_rational_function(s)\n",
        "if esracional:\n",
        "    [P,Q] = Fs.as_numer_denom()\n",
        "    Q = Q.as_poly(s)\n",
        "    Q_raiz = sym.roots(Q)\n",
        "\n",
        "# SALIDA\n",
        "print('\\n f(t): ')\n",
        "sym.pprint(ft)\n",
        "print('\\n F(s): ')\n",
        "sym.pprint(Fs)\n",
        "if esracional:\n",
        "    print('\\n {polos,veces}: ',Q_raiz)"
      ]
    },
    {
      "cell_type": "markdown",
      "source": [
        "Ejemplo 1.2 Transformada de Laplace del Impulso unitario desplazado\n",
        "\n",
        "$f(t) =\\delta (t-2)f(t)=δ(t−2)$\n",
        "\n",
        "$F(s) = e^{-2s}$"
      ],
      "metadata": {
        "id": "P1fQp2qV1HvU"
      }
    },
    {
      "cell_type": "code",
      "source": [
        "# Transformadas de Laplace con Sympy\n",
        "# asume que f(t) se multiplica por u(t)\n",
        "import sympy as sym\n",
        "\n",
        "# INGRESO\n",
        "t = sym.Symbol('t')\n",
        "s = sym.Symbol('s')\n",
        "a = sym.Symbol('a')\n",
        "\n",
        "ft = sym.DiracDelta(t-2)\n",
        "\n",
        "# PROCEDIMIENTO\n",
        "Fs_L = sym.laplace_transform(ft,t,s)\n",
        "Fs = Fs_L[0] # expresion\n",
        "\n",
        "# polos como raices del denominador\n",
        "esracional = Fs.is_rational_function(s)\n",
        "if esracional:\n",
        "    [P,Q] = Fs.as_numer_denom()\n",
        "    Q = Q.as_poly(s)\n",
        "    Q_raiz = sym.roots(Q)\n",
        "\n",
        "# SALIDA\n",
        "print('\\n f(t): ')\n",
        "sym.pprint(ft)\n",
        "print('\\n F(s): ')\n",
        "sym.pprint(Fs)\n",
        "if esracional:\n",
        "    print('\\n {polos,veces}: ',Q_raiz)"
      ],
      "metadata": {
        "id": "NohRHAmx0mVA"
      },
      "execution_count": null,
      "outputs": []
    },
    {
      "cell_type": "markdown",
      "source": [],
      "metadata": {
        "id": "EN1J080G0tEm"
      }
    },
    {
      "cell_type": "markdown",
      "source": [
        "Ejemplo 1.3 Transformada de Laplace del  Escalón Unitario\n",
        "Referencia: Lathi ejemplo 4.2b p336\n",
        "\n",
        "$ f(t) = \\mu (t)f(t)=μ(t) $\n",
        "\n",
        "$F(s) = \\frac{1}{s}$\n",
        "​\n"
      ],
      "metadata": {
        "id": "sSkcp5R91O2O"
      }
    },
    {
      "cell_type": "code",
      "source": [
        "ft = sym.Heaviside(t)\n",
        "\n",
        "# PROCEDIMIENTO\n",
        "Fs_L = sym.laplace_transform(ft,t,s)\n",
        "Fs = Fs_L[0] # expresion\n",
        "\n",
        "# polos como raices del denominador\n",
        "esracional = Fs.is_rational_function(s)\n",
        "if esracional:\n",
        "    [P,Q] = Fs.as_numer_denom()\n",
        "    Q = Q.as_poly(s)\n",
        "    Q_raiz = sym.roots(Q)\n",
        "\n",
        "# SALIDA\n",
        "print('\\n f(t): ')\n",
        "sym.pprint(ft)\n",
        "print('\\n F(s): ')\n",
        "sym.pprint(Fs)\n",
        "if esracional:\n",
        "    print('\\n {polos,veces}: ',Q_raiz)"
      ],
      "metadata": {
        "id": "fxHvpR3h1-2K"
      },
      "execution_count": null,
      "outputs": []
    }
  ]
}