{
  "nbformat": 4,
  "nbformat_minor": 0,
  "metadata": {
    "colab": {
      "provenance": [],
      "authorship_tag": "ABX9TyNyrGPnPJKyOGcZnsU8SLJs",
      "include_colab_link": true
    },
    "kernelspec": {
      "name": "python3",
      "display_name": "Python 3"
    },
    "language_info": {
      "name": "python"
    }
  },
  "cells": [
    {
      "cell_type": "markdown",
      "metadata": {
        "id": "view-in-github",
        "colab_type": "text"
      },
      "source": [
        "<a href=\"https://colab.research.google.com/github/FrankAlvaradoR/Teor-a-de-Control/blob/main/Practica1.ipynb\" target=\"_parent\"><img src=\"https://colab.research.google.com/assets/colab-badge.svg\" alt=\"Open In Colab\"/></a>"
      ]
    },
    {
      "cell_type": "markdown",
      "source": [
        "Ejemplo 1.1 Transformada de Laplace de la Exponencial decreciente\n",
        "Referencia: Lathi 4.1 p331, Oppenheim 9.1 p656\n",
        "\n",
        "$\n",
        "f(t) = e^{-at} \\mu (t)$\n",
        "\n",
        "$\n",
        "F(s) = \\frac{1}{s+a}\n",
        "​$"
      ],
      "metadata": {
        "id": "evoKwi2a0uUI"
      }
    },
    {
      "cell_type": "code",
      "execution_count": null,
      "metadata": {
        "id": "LUunwDdI0K2X"
      },
      "outputs": [],
      "source": [
        "# Transformadas de Laplace con Sympy\n",
        "# asume que f(t) se multiplica por u(t)\n",
        "import sympy as sym\n",
        "\n",
        "# INGRESO\n",
        "t = sym.Symbol('t')\n",
        "s = sym.Symbol('s')\n",
        "a = sym.Symbol('a')\n",
        "\n",
        "ft = sym.exp(-a*t)\n",
        "\n",
        "# PROCEDIMIENTO\n",
        "Fs_L = sym.laplace_transform(ft,t,s)\n",
        "Fs = Fs_L[0] # expresion\n",
        "\n",
        "# polos como raices del denominador\n",
        "esracional = Fs.is_rational_function(s)\n",
        "if esracional:\n",
        "    [P,Q] = Fs.as_numer_denom()\n",
        "    Q = Q.as_poly(s)\n",
        "    Q_raiz = sym.roots(Q)\n",
        "\n",
        "# SALIDA\n",
        "print('\\n f(t): ')\n",
        "sym.pprint(ft)\n",
        "print('\\n F(s): ')\n",
        "sym.pprint(Fs)\n",
        "if esracional:\n",
        "    print('\\n {polos,veces}: ',Q_raiz)"
      ]
    },
    {
      "cell_type": "markdown",
      "source": [
        "Ejemplo 1.2 Transformada de Laplace del Impulso unitario desplazado\n",
        "\n",
        "$f(t) =\\delta (t-2)f(t)=δ(t−2)$\n",
        "\n",
        "$F(s) = e^{-2s}$"
      ],
      "metadata": {
        "id": "P1fQp2qV1HvU"
      }
    },
    {
      "cell_type": "code",
      "source": [
        "# Transformadas de Laplace con Sympy\n",
        "# asume que f(t) se multiplica por u(t)\n",
        "import sympy as sym\n",
        "\n",
        "# INGRESO\n",
        "t = sym.Symbol('t')\n",
        "s = sym.Symbol('s')\n",
        "a = sym.Symbol('a')\n",
        "\n",
        "ft = sym.DiracDelta(t-2)\n",
        "\n",
        "# PROCEDIMIENTO\n",
        "Fs_L = sym.laplace_transform(ft,t,s)\n",
        "Fs = Fs_L[0] # expresion\n",
        "\n",
        "# polos como raices del denominador\n",
        "esracional = Fs.is_rational_function(s)\n",
        "if esracional:\n",
        "    [P,Q] = Fs.as_numer_denom()\n",
        "    Q = Q.as_poly(s)\n",
        "    Q_raiz = sym.roots(Q)\n",
        "\n",
        "# SALIDA\n",
        "print('\\n f(t): ')\n",
        "sym.pprint(ft)\n",
        "print('\\n F(s): ')\n",
        "sym.pprint(Fs)\n",
        "if esracional:\n",
        "    print('\\n {polos,veces}: ',Q_raiz)"
      ],
      "metadata": {
        "id": "NohRHAmx0mVA"
      },
      "execution_count": null,
      "outputs": []
    },
    {
      "cell_type": "markdown",
      "source": [],
      "metadata": {
        "id": "EN1J080G0tEm"
      }
    },
    {
      "cell_type": "markdown",
      "source": [
        "Ejemplo 1.3 Transformada de Laplace del  Escalón Unitario\n",
        "Referencia: Lathi ejemplo 4.2b p336\n",
        "\n",
        "$ f(t) = \\mu (t)f(t)=μ(t) $\n",
        "\n",
        "$F(s) = \\frac{1}{s}$\n",
        "​\n"
      ],
      "metadata": {
        "id": "sSkcp5R91O2O"
      }
    },
    {
      "cell_type": "code",
      "source": [
        "ft = sym.Heaviside(t)\n",
        "\n",
        "# PROCEDIMIENTO\n",
        "Fs_L = sym.laplace_transform(ft,t,s)\n",
        "Fs = Fs_L[0] # expresion\n",
        "\n",
        "# polos como raices del denominador\n",
        "esracional = Fs.is_rational_function(s)\n",
        "if esracional:\n",
        "    [P,Q] = Fs.as_numer_denom()\n",
        "    Q = Q.as_poly(s)\n",
        "    Q_raiz = sym.roots(Q)\n",
        "\n",
        "# SALIDA\n",
        "print('\\n f(t): ')\n",
        "sym.pprint(ft)\n",
        "print('\\n F(s): ')\n",
        "sym.pprint(Fs)\n",
        "if esracional:\n",
        "    print('\\n {polos,veces}: ',Q_raiz)"
      ],
      "metadata": {
        "id": "fxHvpR3h1-2K"
      },
      "execution_count": null,
      "outputs": []
    },
    {
      "cell_type": "markdown",
      "source": [
        "# Transformada inversa de Laplace\n",
        "\n",
        "Ejemplo 2.1 Una función de transferencia en dominio s\n",
        "\n",
        "$F(s)= \\frac{s}{s^2+3s+2}$\n",
        "​\n"
      ],
      "metadata": {
        "id": "TziYey7H2SDn"
      }
    },
    {
      "cell_type": "code",
      "source": [
        "# Transformada de Laplace con Sympy\n",
        "import sympy as sym\n",
        "\n",
        "# INGRESO\n",
        "s,t = sym.symbols('s t')\n",
        "\n",
        "Fs = s/(s**2+3*s+2)\n",
        "\n",
        "# PROCEDIMIENTO\n",
        "# Transformada Inversa de Laplace\n",
        "ft = sym.inverse_laplace_transform(Fs,s,t)\n",
        "\n",
        "# SALIDA\n",
        "print('\\n F(s): ')\n",
        "sym.pprint(Fs)\n",
        "\n",
        "print('\\n f(t): ')\n",
        "print(ft)\n",
        "print('\\n \\n')\n",
        "sym.pprint(ft)"
      ],
      "metadata": {
        "colab": {
          "base_uri": "https://localhost:8080/"
        },
        "id": "GxKGKS5P2g0L",
        "outputId": "23808c8a-d2b0-40f3-d35f-4144bd2fa6dd"
      },
      "execution_count": 10,
      "outputs": [
        {
          "output_type": "stream",
          "name": "stdout",
          "text": [
            "\n",
            " F(s): \n",
            "     s      \n",
            "────────────\n",
            " 2          \n",
            "s  + 3⋅s + 2\n",
            "\n",
            " f(t): \n",
            "(2 - exp(t))*exp(-2*t)*Heaviside(t)\n",
            "\n",
            " \n",
            "\n",
            "⎛     t⎞  -2⋅t     \n",
            "⎝2 - ℯ ⎠⋅ℯ    ⋅θ(t)\n"
          ]
        }
      ]
    },
    {
      "cell_type": "markdown",
      "source": [
        "Ejemplo 2.2 El impulso unitario en dominio s\n",
        "Referencia: Lathi ejemplo 4.2b p336\n",
        "\n",
        "$F(s)= \\frac{1}{s}$\n",
        "​\n"
      ],
      "metadata": {
        "id": "tuPYUm8U3x5-"
      }
    },
    {
      "cell_type": "code",
      "source": [
        "# Transformada de Laplace con Sympy\n",
        "import sympy as sym\n",
        "\n",
        "# INGRESO\n",
        "s,t = sym.symbols('s t')\n",
        "\n",
        "Fs = 1/s\n",
        "\n",
        "# PROCEDIMIENTO\n",
        "# Transformada Inversa de Laplace\n",
        "ft = sym.inverse_laplace_transform(Fs,s,t)\n",
        "\n",
        "# SALIDA\n",
        "print('\\n F(s): ')\n",
        "sym.pprint(Fs)\n",
        "\n",
        "print('\\n f(t): ')\n",
        "sym.pprint(ft)"
      ],
      "metadata": {
        "colab": {
          "base_uri": "https://localhost:8080/"
        },
        "id": "jX6vmthT31lA",
        "outputId": "00828431-e102-482b-c109-58d7f7b97cae"
      },
      "execution_count": 11,
      "outputs": [
        {
          "output_type": "stream",
          "name": "stdout",
          "text": [
            "\n",
            " F(s): \n",
            "1\n",
            "─\n",
            "s\n",
            "\n",
            " f(t): \n",
            "θ(t)\n"
          ]
        }
      ]
    },
    {
      "cell_type": "markdown",
      "source": [
        "Ejemplo 2.3 Impulso unitario desplazado en tiempo\n",
        "En el caso de usar desplazamintos en tiempo, se recomienda también usar las expresiones simples, para término a término realizar la transformada, recuerde usar sym.expand(Fs,s) antes de aplicar la tranformada inversa.\n",
        "\n",
        "$F(s)= \\frac{1}{s}e^{-5t}$\n",
        " \n",
        "usando en el algoritmo anterior la expresión de ingreso :"
      ],
      "metadata": {
        "id": "t_8qS_t_4GHQ"
      }
    },
    {
      "cell_type": "code",
      "source": [
        "Fs = (1/s)*sym.exp(-5*s)\n",
        "# PROCEDIMIENTO\n",
        "# Transformada Inversa de Laplace\n",
        "ft = sym.inverse_laplace_transform(Fs,s,t)\n",
        "\n",
        "# SALIDA\n",
        "print('\\n F(s): ')\n",
        "sym.pprint(Fs)\n",
        "\n",
        "print('\\n f(t): ')\n",
        "sym.pprint(ft)"
      ],
      "metadata": {
        "colab": {
          "base_uri": "https://localhost:8080/"
        },
        "id": "P8HzOSNT4IrQ",
        "outputId": "66595bf7-bffe-4577-85ef-eec756a585a9"
      },
      "execution_count": 12,
      "outputs": [
        {
          "output_type": "stream",
          "name": "stdout",
          "text": [
            "\n",
            " F(s): \n",
            " -5⋅s\n",
            "ℯ    \n",
            "─────\n",
            "  s  \n",
            "\n",
            " f(t): \n",
            "θ(t - 5)\n"
          ]
        }
      ]
    }
  ]
}