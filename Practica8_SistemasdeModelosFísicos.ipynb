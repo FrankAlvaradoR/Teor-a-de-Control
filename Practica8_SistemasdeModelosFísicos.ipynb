{
  "nbformat": 4,
  "nbformat_minor": 0,
  "metadata": {
    "colab": {
      "provenance": [],
      "authorship_tag": "ABX9TyNGA/1PMZwsSUWRonVumPgi",
      "include_colab_link": true
    },
    "kernelspec": {
      "name": "python3",
      "display_name": "Python 3"
    },
    "language_info": {
      "name": "python"
    }
  },
  "cells": [
    {
      "cell_type": "markdown",
      "metadata": {
        "id": "view-in-github",
        "colab_type": "text"
      },
      "source": [
        "<a href=\"https://colab.research.google.com/github/FrankAlvaradoR/Teor-a-de-Control/blob/main/Practica8_SistemasdeModelosF%C3%ADsicos.ipynb\" target=\"_parent\"><img src=\"https://colab.research.google.com/assets/colab-badge.svg\" alt=\"Open In Colab\"/></a>"
      ]
    },
    {
      "cell_type": "code",
      "execution_count": 49,
      "metadata": {
        "id": "PcfObgmrzsCL"
      },
      "outputs": [],
      "source": [
        "import numpy as np \n",
        "import matplotlib.pyplot as plt \n",
        "from scipy import signal \n",
        "import math"
      ]
    },
    {
      "cell_type": "code",
      "source": [
        "fs = 400   \n",
        "fc = 50\n",
        "N=1  \n",
        "Wn=fc/(fs/2);\n",
        "b, a = signal.butter(N, Wn,'high') \n",
        "#'high'\n",
        "#'bandpass'\n",
        "#'stop'\n",
        "print(\"Order of the Filter=\", N)  \n",
        "print(\"Cut-off frequency= {:.3f} rad/s \".format(Wn))\n",
        "print(\"Valores b:\",b)\n",
        "print(\"Valores a:\",a)"
      ],
      "metadata": {
        "id": "Mhsn5lc11NGO"
      },
      "execution_count": null,
      "outputs": []
    },
    {
      "cell_type": "code",
      "source": [
        "w, h = signal.freqz(b,a);\n",
        "  \n",
        "plt.plot(w/np.pi, 20*np.log10(abs(h))) \n",
        "\n",
        "plt.title('Butterworth filter frequency response') \n",
        "plt.xlabel('Normalized Frequency [Hz]') \n",
        "plt.ylabel('Amplitude [dB]') \n",
        "#plt.margins(0, 0.1) \n",
        "plt.grid(which='both', axis='both') \n",
        "#plt.axvline(1, color='green') \n",
        "plt.show() \n",
        "  "
      ],
      "metadata": {
        "id": "pJIVM8Z32EHW"
      },
      "execution_count": null,
      "outputs": []
    },
    {
      "cell_type": "code",
      "source": [
        "'''\n",
        "Filtro de Orden 1 \n",
        "Pasarías a su micro\n",
        "a(1)*y(n) + a(2)*y(n-1) = b(1)*x(n) + b(2)*x(n-1) ; \n",
        "'''\n",
        "\n",
        "t= np.arange(0,1,1/fs);\n",
        "for F in np.arange(0,101,1):\n",
        "  x=np.cos(2*np.pi*F*t)\n",
        "  y=np.zeros(len(x));\n",
        "\n",
        "  for n in np.arange(1,len(x),1):\n",
        "    Y=b[0]*x[n] + b[1]*x[n-1] - a[1]*y[n-1]\n",
        "    y[n]=Y\n",
        "  \n",
        "  plt.plot(t,x,'k')\n",
        "  plt.plot(t,y,'r')\n",
        "  plt.show()\n",
        "\n"
      ],
      "metadata": {
        "id": "i6ngcxFH3F1Y"
      },
      "execution_count": null,
      "outputs": []
    },
    {
      "cell_type": "code",
      "source": [],
      "metadata": {
        "id": "Dq26ylZm7vgK"
      },
      "execution_count": null,
      "outputs": []
    }
  ]
}