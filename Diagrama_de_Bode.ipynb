{
  "nbformat": 4,
  "nbformat_minor": 0,
  "metadata": {
    "colab": {
      "provenance": [],
      "authorship_tag": "ABX9TyNeC5EDnx+RGYUvmGaD/6Oa",
      "include_colab_link": true
    },
    "kernelspec": {
      "name": "python3",
      "display_name": "Python 3"
    },
    "language_info": {
      "name": "python"
    }
  },
  "cells": [
    {
      "cell_type": "markdown",
      "metadata": {
        "id": "view-in-github",
        "colab_type": "text"
      },
      "source": [
        "<a href=\"https://colab.research.google.com/github/FrankAlvaradoR/Teor-a-de-Control/blob/main/Diagrama_de_Bode.ipynb\" target=\"_parent\"><img src=\"https://colab.research.google.com/assets/colab-badge.svg\" alt=\"Open In Colab\"/></a>"
      ]
    },
    {
      "cell_type": "code",
      "execution_count": null,
      "metadata": {
        "id": "u8psWQTHOsyw"
      },
      "outputs": [],
      "source": [
        "!pip install control"
      ]
    },
    {
      "cell_type": "code",
      "source": [
        "import control as co\n",
        "import numpy as np\n",
        "import matplotlib.pyplot as plt\n",
        "\n",
        " # La variable de la función de transferencia\n",
        "\n",
        "G = co.tf([25],[1,4,25])\n",
        "print(G)\n",
        "poles = G.poles() # Los polos de la función\n",
        "co.bode_plot(G);"
      ],
      "metadata": {
        "id": "FYvUcTIWO59x"
      },
      "execution_count": null,
      "outputs": []
    },
    {
      "cell_type": "code",
      "source": [
        "G = co.tf([9,1.8,9],[1,1.2,9,0])\n",
        "print(G)\n",
        "co.bode_plot(G);"
      ],
      "metadata": {
        "id": "b_3tPpoSPKQt"
      },
      "execution_count": null,
      "outputs": []
    },
    {
      "cell_type": "code",
      "source": [
        "G = co.tf([9,1.8,9],[1,1.2,9,0])\n",
        "print(G)\n",
        "co.bode_plot(G);"
      ],
      "metadata": {
        "id": "Ke_3mZtEQh1s"
      },
      "execution_count": null,
      "outputs": []
    }
  ]
}