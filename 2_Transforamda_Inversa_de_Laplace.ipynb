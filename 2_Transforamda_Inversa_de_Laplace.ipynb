{
  "nbformat": 4,
  "nbformat_minor": 0,
  "metadata": {
    "colab": {
      "provenance": [],
      "authorship_tag": "ABX9TyNv3sqYZB0cQHL7KNXj++lf",
      "include_colab_link": true
    },
    "kernelspec": {
      "name": "python3",
      "display_name": "Python 3"
    },
    "language_info": {
      "name": "python"
    }
  },
  "cells": [
    {
      "cell_type": "markdown",
      "metadata": {
        "id": "view-in-github",
        "colab_type": "text"
      },
      "source": [
        "<a href=\"https://colab.research.google.com/github/FrankAlvaradoR/Teor-a-de-Control/blob/main/2_Transforamda_Inversa_de_Laplace.ipynb\" target=\"_parent\"><img src=\"https://colab.research.google.com/assets/colab-badge.svg\" alt=\"Open In Colab\"/></a>"
      ]
    },
    {
      "cell_type": "markdown",
      "source": [
        "# Transformada inversa de Laplace\n",
        "\n",
        "Ejemplo 2.1 Una función de transferencia en dominio s\n",
        "\n",
        "$F(s)= \\frac{s}{s^2+3s+2}$\n",
        "​\n"
      ],
      "metadata": {
        "id": "TziYey7H2SDn"
      }
    },
    {
      "cell_type": "code",
      "source": [
        "# Transformada de Laplace con Sympy\n",
        "import sympy as sym\n",
        "\n",
        "# INGRESO\n",
        "s,t = sym.symbols('s t')\n",
        "\n",
        "Fs = s/(s**2+3*s+2)\n",
        "\n",
        "# PROCEDIMIENTO\n",
        "# Transformada Inversa de Laplace\n",
        "ft = sym.inverse_laplace_transform(Fs,s,t)\n",
        "\n",
        "# SALIDA\n",
        "print('\\n F(s): ')\n",
        "sym.pprint(Fs)\n",
        "\n",
        "print('\\n f(t): ')\n",
        "print(ft)\n",
        "print('\\n \\n')\n",
        "sym.pprint(ft)"
      ],
      "metadata": {
        "id": "GxKGKS5P2g0L",
        "colab": {
          "base_uri": "https://localhost:8080/"
        },
        "outputId": "2572cad1-f7dc-46d7-f37e-70425b41b788"
      },
      "execution_count": 1,
      "outputs": [
        {
          "output_type": "stream",
          "name": "stdout",
          "text": [
            "\n",
            " F(s): \n",
            "     s      \n",
            "────────────\n",
            " 2          \n",
            "s  + 3⋅s + 2\n",
            "\n",
            " f(t): \n",
            "(2 - exp(t))*exp(-2*t)*Heaviside(t)\n",
            "\n",
            " \n",
            "\n",
            "⎛     t⎞  -2⋅t     \n",
            "⎝2 - ℯ ⎠⋅ℯ    ⋅θ(t)\n"
          ]
        }
      ]
    },
    {
      "cell_type": "markdown",
      "source": [
        "Ejemplo 2.2 El impulso unitario en dominio s\n",
        "Referencia: Lathi ejemplo 4.2b p336\n",
        "\n",
        "$F(s)= \\frac{1}{s}$\n",
        "​\n"
      ],
      "metadata": {
        "id": "tuPYUm8U3x5-"
      }
    },
    {
      "cell_type": "code",
      "source": [
        "# Transformada de Laplace con Sympy\n",
        "import sympy as sym\n",
        "\n",
        "# INGRESO\n",
        "s,t = sym.symbols('s t')\n",
        "\n",
        "Fs = 1/s\n",
        "\n",
        "# PROCEDIMIENTO\n",
        "# Transformada Inversa de Laplace\n",
        "ft = sym.inverse_laplace_transform(Fs,s,t)\n",
        "\n",
        "# SALIDA\n",
        "print('\\n F(s): ')\n",
        "sym.pprint(Fs)\n",
        "\n",
        "print('\\n f(t): ')\n",
        "sym.pprint(ft)"
      ],
      "metadata": {
        "id": "jX6vmthT31lA"
      },
      "execution_count": null,
      "outputs": []
    },
    {
      "cell_type": "markdown",
      "source": [
        "Ejemplo 2.3 Impulso unitario desplazado en tiempo\n",
        "En el caso de usar desplazamintos en tiempo, se recomienda también usar las expresiones simples, para término a término realizar la transformada, recuerde usar sym.expand(Fs,s) antes de aplicar la tranformada inversa.\n",
        "\n",
        "$F(s)= \\frac{1}{s}e^{-5t}$\n",
        " \n",
        "usando en el algoritmo anterior la expresión de ingreso :"
      ],
      "metadata": {
        "id": "t_8qS_t_4GHQ"
      }
    },
    {
      "cell_type": "code",
      "source": [
        "Fs = (1/s)*sym.exp(-5*s)\n",
        "# PROCEDIMIENTO\n",
        "# Transformada Inversa de Laplace\n",
        "ft = sym.inverse_laplace_transform(Fs,s,t)\n",
        "\n",
        "# SALIDA\n",
        "print('\\n F(s): ')\n",
        "sym.pprint(Fs)\n",
        "\n",
        "print('\\n f(t): ')\n",
        "sym.pprint(ft)"
      ],
      "metadata": {
        "id": "P8HzOSNT4IrQ",
        "colab": {
          "base_uri": "https://localhost:8080/"
        },
        "outputId": "d8edfeaa-f38d-4578-daaa-8fb853cf105a"
      },
      "execution_count": 3,
      "outputs": [
        {
          "output_type": "stream",
          "name": "stdout",
          "text": [
            "\n",
            " F(s): \n",
            " -5⋅s\n",
            "ℯ    \n",
            "─────\n",
            "  s  \n",
            "\n",
            " f(t): \n",
            "θ(t - 5)\n"
          ]
        }
      ]
    }
  ]
}