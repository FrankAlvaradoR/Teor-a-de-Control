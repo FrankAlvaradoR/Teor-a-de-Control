{
  "nbformat": 4,
  "nbformat_minor": 0,
  "metadata": {
    "colab": {
      "provenance": [],
      "authorship_tag": "ABX9TyN/yRVq5jc9o6lgfpv7Vl1v",
      "include_colab_link": true
    },
    "kernelspec": {
      "name": "python3",
      "display_name": "Python 3"
    },
    "language_info": {
      "name": "python"
    }
  },
  "cells": [
    {
      "cell_type": "markdown",
      "metadata": {
        "id": "view-in-github",
        "colab_type": "text"
      },
      "source": [
        "<a href=\"https://colab.research.google.com/github/FrankAlvaradoR/Teor-a-de-Control/blob/main/4_Solucion_de_ecuaciones.ipynb\" target=\"_parent\"><img src=\"https://colab.research.google.com/assets/colab-badge.svg\" alt=\"Open In Colab\"/></a>"
      ]
    },
    {
      "cell_type": "markdown",
      "source": [
        "# Solución de Ecuaciones\n",
        "\n",
        "Ejemplo: Para resolver el siguiente sistema de ecuaciones:\n",
        "\n",
        "4x  + 3y = 20\n",
        " \n",
        "-5x + 9y = 26\n",
        "\n"
      ],
      "metadata": {
        "id": "koaaIeC-1T6i"
      }
    },
    {
      "cell_type": "code",
      "execution_count": 6,
      "metadata": {
        "colab": {
          "base_uri": "https://localhost:8080/"
        },
        "id": "EKz9Q4zK1OtP",
        "outputId": "a865cf56-73f1-4eb7-dce2-463015374840"
      },
      "outputs": [
        {
          "output_type": "stream",
          "name": "stdout",
          "text": [
            "[[ 0.17647059 -0.05882353]\n",
            " [ 0.09803922  0.07843137]]\n",
            "\n",
            " el primer valor es la solución de x, el segundo de y\n",
            "\n",
            " [2. 4.]\n"
          ]
        }
      ],
      "source": [
        "#Solución de un sistema de ecuaciones\n",
        "\n",
        "import numpy as np\n",
        "\n",
        "m_list = [[4, 3], [-5, 9]]\n",
        "A = np.array(m_list)\n",
        "inv_A = np.linalg.inv(A)\n",
        "\n",
        "print(inv_A)\n",
        "\n",
        "B = np.array([20, 26])\n",
        "X = np.linalg.inv(A).dot(B)\n",
        "\n",
        "print(\"\\n el primer valor es la solución de x, el segundo de y\")\n",
        "print(\"\\n\",X)"
      ]
    },
    {
      "cell_type": "markdown",
      "source": [
        "Ejemplo: Para resolver el siguiente sistema de ecuaciones:\n",
        "\n",
        " 4x + 3y + 2z = 25  \n",
        "\n",
        "-2x + 2y + 3z = -10\n",
        "\n",
        " 3x - 5y + 2z = -4"
      ],
      "metadata": {
        "id": "_uZ0OOf22aVC"
      }
    },
    {
      "cell_type": "code",
      "source": [
        "#Solución de un sistema de ecuaciones 3 incognitas\n",
        "import numpy as np\n",
        "A = np.array([[4, 3, 2], [-2, 2, 3], [3, -5, 2]])\n",
        "B = np.array([25, -10, -4])\n",
        "X = np.linalg.inv(A).dot(B)\n",
        "\n",
        "print(X)"
      ],
      "metadata": {
        "colab": {
          "base_uri": "https://localhost:8080/"
        },
        "id": "h1RHZ5-32R-d",
        "outputId": "799ca6e0-eb06-4915-c401-fb959d6cc740"
      },
      "execution_count": 7,
      "outputs": [
        {
          "output_type": "stream",
          "name": "stdout",
          "text": [
            "[ 5.  3. -2.]\n"
          ]
        }
      ]
    },
    {
      "cell_type": "code",
      "source": [
        "#Otra opción para resolver el mismo ejercicio sería: \n",
        "A = np.array([[4, 3, 2], [-2, 2, 3], [3, -5, 2]])\n",
        "B = np.array([25, -10, -4])\n",
        "X2 = np.linalg.solve(A,B)\n",
        "\n",
        "print(X2)"
      ],
      "metadata": {
        "colab": {
          "base_uri": "https://localhost:8080/"
        },
        "id": "MeFehriH2u0_",
        "outputId": "4202475c-449d-43c4-eff5-59b3262c5b93"
      },
      "execution_count": 8,
      "outputs": [
        {
          "output_type": "stream",
          "name": "stdout",
          "text": [
            "[ 5.  3. -2.]\n"
          ]
        }
      ]
    }
  ]
}