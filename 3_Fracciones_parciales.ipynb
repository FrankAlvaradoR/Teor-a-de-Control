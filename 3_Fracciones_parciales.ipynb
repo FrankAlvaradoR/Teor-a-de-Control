{
  "nbformat": 4,
  "nbformat_minor": 0,
  "metadata": {
    "colab": {
      "provenance": [],
      "authorship_tag": "ABX9TyP9J1DNMgZ6w8xEZolSZyGd",
      "include_colab_link": true
    },
    "kernelspec": {
      "name": "python3",
      "display_name": "Python 3"
    },
    "language_info": {
      "name": "python"
    }
  },
  "cells": [
    {
      "cell_type": "markdown",
      "metadata": {
        "id": "view-in-github",
        "colab_type": "text"
      },
      "source": [
        "<a href=\"https://colab.research.google.com/github/FrankAlvaradoR/Teor-a-de-Control/blob/main/3_Fracciones_parciales.ipynb\" target=\"_parent\"><img src=\"https://colab.research.google.com/assets/colab-badge.svg\" alt=\"Open In Colab\"/></a>"
      ]
    },
    {
      "cell_type": "markdown",
      "source": [
        "# Fracciones Parciales"
      ],
      "metadata": {
        "id": "HvwOm27l0_2K"
      }
    },
    {
      "cell_type": "code",
      "source": [
        "# Fracciones parciales de H(s) con Sympy\n",
        "# Ps es numerador, Qs es denominador\n",
        "import sympy as sym\n",
        "\n",
        "# INGRESO\n",
        "s = sym.Symbol('s')\n",
        "\n",
        "Ps = 2*s+4\n",
        "Qs = s**2 + 4*s + 3\n",
        "\n",
        "# PROCEDIMIENTO\n",
        "P = Ps.as_poly(s)\n",
        "Q = Qs.as_poly(s)\n",
        "Q_raiz = sym.roots(Q)\n",
        "\n",
        "# Respuesta impulso\n",
        "Hs = P/Q\n",
        "\n",
        "# fracciones parciales\n",
        "Hsp = sym.apart(Hs,s)\n",
        "\n",
        "# transformada inversa de Laplace\n",
        "t = sym.Symbol('t')\n",
        "ht = 0*t  # expresión vacia en t\n",
        "terminos = Hsp.args\n",
        "for term_s in terminos:\n",
        "    term_t = sym.inverse_laplace_transform(term_s,s,t)\n",
        "    ht = ht + term_t\n",
        "\n",
        "# SALIDA\n",
        "print('H(s):')\n",
        "sym.pprint(Hs)\n",
        "print('\\nPara H(s)=P(s)/Q(s) ')\n",
        "print(' {polos,veces}: ',Q_raiz)\n",
        "print('\\nFracciones parciales:')\n",
        "sym.pprint(Hsp)\n",
        "\n",
        "print('\\n h(t): ')\n",
        "sym.pprint(ht)"
      ],
      "metadata": {
        "id": "ReLmSA4Jwqly",
        "outputId": "48239233-d76f-4a0b-983b-e133b39061e3",
        "colab": {
          "base_uri": "https://localhost:8080/"
        }
      },
      "execution_count": null,
      "outputs": [
        {
          "output_type": "stream",
          "name": "stdout",
          "text": [
            "H(s):\n",
            "  2⋅s + 4   \n",
            "────────────\n",
            " 2          \n",
            "s  + 4⋅s + 3\n",
            "\n",
            "Para H(s)=P(s)/Q(s) \n",
            " {polos,veces}:  {-1: 1, -3: 1}\n",
            "\n",
            "Fracciones parciales:\n",
            "  1       1  \n",
            "───── + ─────\n",
            "s + 3   s + 1\n",
            "\n",
            " h(t): \n",
            " -t         -3⋅t     \n",
            "ℯ  ⋅θ(t) + ℯ    ⋅θ(t)\n"
          ]
        }
      ]
    }
  ]
}