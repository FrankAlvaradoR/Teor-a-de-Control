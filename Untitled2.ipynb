{
  "nbformat": 4,
  "nbformat_minor": 0,
  "metadata": {
    "colab": {
      "provenance": [],
      "authorship_tag": "ABX9TyNV6klpLjOZZ0p6/1qRtbIA",
      "include_colab_link": true
    },
    "kernelspec": {
      "name": "python3",
      "display_name": "Python 3"
    },
    "language_info": {
      "name": "python"
    }
  },
  "cells": [
    {
      "cell_type": "markdown",
      "metadata": {
        "id": "view-in-github",
        "colab_type": "text"
      },
      "source": [
        "<a href=\"https://colab.research.google.com/github/FrankAlvaradoR/Teor-a-de-Control/blob/main/Untitled2.ipynb\" target=\"_parent\"><img src=\"https://colab.research.google.com/assets/colab-badge.svg\" alt=\"Open In Colab\"/></a>"
      ]
    },
    {
      "cell_type": "code",
      "execution_count": null,
      "metadata": {
        "id": "VpkGuWChfRrD"
      },
      "outputs": [],
      "source": [
        "pip install control\n"
      ]
    },
    {
      "cell_type": "code",
      "source": [
        "from control.matlab import *\n",
        "import numpy as np\n",
        "import matplotlib.pyplot as plt"
      ],
      "metadata": {
        "id": "96nxNIE9fd_Q"
      },
      "execution_count": 26,
      "outputs": []
    },
    {
      "cell_type": "code",
      "source": [
        "#Ejercicio 5-2\n",
        "A = np.array([[-1,-1],[6.5,0]])\n",
        "B = np.array([[1,1],[1,0]])\n",
        "C = np.array([[1,0],[0,1]])\n",
        "D = np.array([[0,0],[0,0]])\n",
        "\n",
        "print(A)\n",
        "print(B)\n",
        "print(C)\n",
        "print(D)\n",
        "\n",
        "v_prueba=ss(A,B,C,D,2)\n",
        "print(v_prueba)\n",
        "T=np.linspace(0, 10.0, num=100)\n",
        "print(T)\n",
        "V2 = step(v_prueba)\n",
        "\n"
      ],
      "metadata": {
        "colab": {
          "base_uri": "https://localhost:8080/"
        },
        "id": "iqDIi0xbfhx_",
        "outputId": "0521bc91-216b-4fe9-8f7f-7a6cb0c2a64f"
      },
      "execution_count": 72,
      "outputs": [
        {
          "output_type": "stream",
          "name": "stdout",
          "text": [
            "[[-1.  -1. ]\n",
            " [ 6.5  0. ]]\n",
            "[[1 1]\n",
            " [1 0]]\n",
            "[[1 0]\n",
            " [0 1]]\n",
            "[[0 0]\n",
            " [0 0]]\n",
            "<LinearIOSystem>: sys[48]\n",
            "Inputs (2): ['u[0]', 'u[1]']\n",
            "Outputs (2): ['y[0]', 'y[1]']\n",
            "States (2): ['x[0]', 'x[1]']\n",
            "\n",
            "A = [[-1.  -1. ]\n",
            "     [ 6.5  0. ]]\n",
            "\n",
            "B = [[1. 1.]\n",
            "     [1. 0.]]\n",
            "\n",
            "C = [[1. 0.]\n",
            "     [0. 1.]]\n",
            "\n",
            "D = [[0. 0.]\n",
            "     [0. 0.]]\n",
            "\n",
            "dt = 2\n",
            "\n",
            "[ 0.          0.1010101   0.2020202   0.3030303   0.4040404   0.50505051\n",
            "  0.60606061  0.70707071  0.80808081  0.90909091  1.01010101  1.11111111\n",
            "  1.21212121  1.31313131  1.41414141  1.51515152  1.61616162  1.71717172\n",
            "  1.81818182  1.91919192  2.02020202  2.12121212  2.22222222  2.32323232\n",
            "  2.42424242  2.52525253  2.62626263  2.72727273  2.82828283  2.92929293\n",
            "  3.03030303  3.13131313  3.23232323  3.33333333  3.43434343  3.53535354\n",
            "  3.63636364  3.73737374  3.83838384  3.93939394  4.04040404  4.14141414\n",
            "  4.24242424  4.34343434  4.44444444  4.54545455  4.64646465  4.74747475\n",
            "  4.84848485  4.94949495  5.05050505  5.15151515  5.25252525  5.35353535\n",
            "  5.45454545  5.55555556  5.65656566  5.75757576  5.85858586  5.95959596\n",
            "  6.06060606  6.16161616  6.26262626  6.36363636  6.46464646  6.56565657\n",
            "  6.66666667  6.76767677  6.86868687  6.96969697  7.07070707  7.17171717\n",
            "  7.27272727  7.37373737  7.47474747  7.57575758  7.67676768  7.77777778\n",
            "  7.87878788  7.97979798  8.08080808  8.18181818  8.28282828  8.38383838\n",
            "  8.48484848  8.58585859  8.68686869  8.78787879  8.88888889  8.98989899\n",
            "  9.09090909  9.19191919  9.29292929  9.39393939  9.49494949  9.5959596\n",
            "  9.6969697   9.7979798   9.8989899  10.        ]\n"
          ]
        }
      ]
    },
    {
      "cell_type": "markdown",
      "source": [],
      "metadata": {
        "id": "X0yjzKGCfhbo"
      }
    },
    {
      "cell_type": "code",
      "source": [
        "#print(V2[0][:][:,1])\n",
        "plt.plot(V2[0][:][:,1])"
      ],
      "metadata": {
        "colab": {
          "base_uri": "https://localhost:8080/",
          "height": 294
        },
        "id": "XpY8WEtGmuWP",
        "outputId": "7e80e6ab-9816-4e15-f142-2b94a5e329fc"
      },
      "execution_count": 73,
      "outputs": [
        {
          "output_type": "execute_result",
          "data": {
            "text/plain": [
              "[<matplotlib.lines.Line2D at 0x7fb27ddd6d50>]"
            ]
          },
          "metadata": {},
          "execution_count": 73
        },
        {
          "output_type": "display_data",
          "data": {
            "text/plain": [
              "<Figure size 432x288 with 1 Axes>"
            ],
            "image/png": "[encoded data removed]"
          },
          "metadata": {
            "needs_background": "light"
          }
        }
      ]
    }
  ]
}